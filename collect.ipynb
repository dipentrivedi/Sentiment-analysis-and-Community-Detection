{
 "cells": [
  {
   "cell_type": "code",
   "execution_count": 1,
   "metadata": {
    "collapsed": false
   },
   "outputs": [],
   "source": [
    "from TwitterAPI import TwitterAPI\n",
    "import requests\n",
    "from bs4 import BeautifulSoup\n",
    "import re\n",
    "import sys\n",
    "import time\n",
    "import os\n",
    "import numpy as np\n",
    "try:\n",
    "    import configparser\n",
    "except:\n",
    "    from six.moves import configparser"
   ]
  },
  {
   "cell_type": "code",
   "execution_count": 2,
   "metadata": {
    "collapsed": false
   },
   "outputs": [],
   "source": [
    "def getCandidates(path):\n",
    "    r = requests.get(\"http://twittercounter.com/pages/100?vt=1&utm_expid=102679131-111.l9w6V73qSUykZciySuTZuA.1&utm_referrer=https%3A%2F%2Fwww.google.com%2F\")\n",
    "    soup = BeautifulSoup(r.text, \"lxml\")\n",
    "    lst=[]\n",
    "    f=open(path+\"/candidates.txt\",\"w\")\n",
    "    for i in soup.find_all(\"div\", attrs={\"class\": \"name-bio\"}):\n",
    "        tagSoup=BeautifulSoup(str(i), \"lxml\")\n",
    "        for j in tagSoup.find_all(\"span\", attrs={\"itemprop\": \"alternateName\"}):\n",
    "            f.write(re.sub(r\"@\",\"\",j.contents[0])+\"\\n\")\n",
    "    f.close()"
   ]
  },
  {
   "cell_type": "code",
   "execution_count": 3,
   "metadata": {
    "collapsed": false
   },
   "outputs": [],
   "source": [
    "# This method is done for you. Make sure to put your credentials in the file twitter.cfg.\n",
    "def get_twitter(config_file):\n",
    "    \"\"\" Construct an instance of TwitterAPI using the tokens you entered above.\n",
    "    Returns:\n",
    "      An instance of TwitterAPI.\n",
    "    \"\"\"     \n",
    "    config = configparser.ConfigParser()\n",
    "    config.read(config_file)\n",
    "    twitter = TwitterAPI(\n",
    "                   config.get('twitter', 'consumer_key'),\n",
    "                   config.get('twitter', 'consumer_secret'),\n",
    "                   config.get('twitter', 'access_token'),\n",
    "                   config.get('twitter', 'access_token_secret'))\n",
    "    return twitter"
   ]
  },
  {
   "cell_type": "code",
   "execution_count": 4,
   "metadata": {
    "collapsed": false
   },
   "outputs": [],
   "source": [
    "# I've provided the method below to handle Twitter's rate limiting.\n",
    "# You should call this method whenever you need to access the Twitter API.\n",
    "def robust_request(twitter, resource, params, max_tries=5):\n",
    "    \"\"\" If a Twitter request fails, sleep for 15 minutes.\n",
    "    Do this at most max_tries times before quitting.\n",
    "    Args:\n",
    "      twitter .... A TwitterAPI object.\n",
    "      resource ... A resource string to request; e.g., \"friends/ids\"\n",
    "      params ..... A parameter dict for the request, e.g., to specify\n",
    "                   parameters like screen_name or count.\n",
    "      max_tries .. The maximum number of tries to attempt.\n",
    "    Returns:\n",
    "      A TwitterResponse object, or None if failed.\n",
    "    \"\"\"\n",
    "    for i in range(max_tries):\n",
    "        request = twitter.request(resource, params)\n",
    "        if request.status_code == 200:\n",
    "            return request\n",
    "        else:\n",
    "            print('Got error %s \\nsleeping for 15 minutes.' % request.text)\n",
    "            sys.stderr.flush()\n",
    "            time.sleep(61 * 15)"
   ]
  },
  {
   "cell_type": "code",
   "execution_count": 5,
   "metadata": {
    "collapsed": false
   },
   "outputs": [],
   "source": [
    "def get_friends(twitter, screen_name):\n",
    "    \"\"\" Return a list of Twitter IDs for users that this person follows, up to 5000.\n",
    "    See https://dev.twitter.com/rest/reference/get/friends/ids\n",
    "\n",
    "    Note, because of rate limits, it's best to test this method for one candidate before trying\n",
    "    on all candidates.\n",
    "\n",
    "    Args:\n",
    "        twitter.......The TwitterAPI object\n",
    "        screen_name... a string of a Twitter screen name\n",
    "    Returns:\n",
    "        A list of ints, one per friend ID, sorted in ascending order.\n",
    "\n",
    "    \"\"\"\n",
    "    ###TODO\n",
    "\n",
    "    resource='friends/list'\n",
    "    params = {'screen_name': screen_name, 'count': 5000}\n",
    "    req=robust_request(twitter, resource, params, max_tries=5)\n",
    "    \n",
    "    f=open(\"data/user_friends.txt\",\"a\")\n",
    "    for r in req:\n",
    "        f.write(\"\\n\"+screen_name+\" \"+r['screen_name'])\n",
    "    f.close()"
   ]
  },
  {
   "cell_type": "code",
   "execution_count": null,
   "metadata": {
    "collapsed": false
   },
   "outputs": [],
   "source": [
    "def getMovieReviews(url):\n",
    "    \n",
    "    r = requests.get(url)\n",
    "    soup = BeautifulSoup(r.text, \"lxml\")\n",
    "    cnt=0\n",
    "    lst=[]\n",
    "    flag=True\n",
    "    f=open(\"data/movie_reviews.txt\",\"w\")\n",
    "    \n",
    "    for i in soup.find_all(\"tr\", attrs={\"itemprop\": \"itemListElement\"}):\n",
    "        \n",
    "        j=i.find_all(\"a\", attrs={\"class\": \"unstyled articleLink\"})\n",
    "\n",
    "        r1 = requests.get(\"https://www.rottentomatoes.com\"+j[0]['href'])\n",
    "        soup1 = BeautifulSoup(r1.text, \"lxml\")\n",
    "            \n",
    "        for k in soup1.find_all(\"div\", attrs={\"id\":\"reviews\"}):\n",
    "            for l in k.find_all(\"p\"):\n",
    "                if flag:\n",
    "                    f.write(l.text.lstrip())\n",
    "                    flag=False\n",
    "                else:\n",
    "                    f.write(\"\\n\"+l.text.lstrip())\n",
    "    f.close()"
   ]
  },
  {
   "cell_type": "code",
   "execution_count": null,
   "metadata": {
    "collapsed": false
   },
   "outputs": [
    {
     "name": "stdout",
     "output_type": "stream",
     "text": [
      "Movie Reviews Collected\n",
      "Candidates Collected\n",
      "Got error {\"errors\":[{\"message\":\"Rate limit exceeded\",\"code\":88}]} \n",
      "sleeping for 15 minutes.\n"
     ]
    }
   ],
   "source": [
    "def main():\n",
    "    \"\"\"\n",
    "    FYI: This takes ~50-60 mins to run on my laptop.\n",
    "    \"\"\"\n",
    "    startTime = time.clock()\n",
    "    if not os.path.exists('data'):\n",
    "        os.makedirs('data')\n",
    "        \n",
    "##########-----------------Data for classifier-------------############      \n",
    "    # Get Movoie reviews from the https://www.rottentomatoes.com/\n",
    "\n",
    "    getMovieReviews(\"https://www.rottentomatoes.com/top/bestofrt/\")\n",
    "    \n",
    "    print(\"Movie Reviews Collected\")\n",
    "##########-----------------Data for cluster----------------############\n",
    "    # download http://twittercounter.com/\n",
    "    # Get top 100 twitter candidates\n",
    "    getCandidates(\"data\")\n",
    "    \n",
    "    print(\"Candidates Collected\")\n",
    "    #get twitter object\n",
    "    twitter=get_twitter('twitter.cfg')\n",
    "  \n",
    "    #get candidate names for getting the candidate's friends\n",
    "    screen_names=[]\n",
    "    for f in open(\"data/candidates.txt\",\"r\"):\n",
    "        screen_names.append(f.strip('\\n'))\n",
    "    \n",
    "    for i,item in enumerate(screen_names):\n",
    "        get_friends(twitter,item)\n",
    "    \n",
    "    endTime = time.clock()\n",
    "    \n",
    "    print(\"Total Runing time: %f\"%(endTime - startTime))\n",
    "    \n",
    "    print(\" Data Collected \")\n",
    "    \n",
    "if __name__ == '__main__':\n",
    "    main()"
   ]
  }
 ],
 "metadata": {
  "anaconda-cloud": {},
  "kernelspec": {
   "display_name": "Python [Root]",
   "language": "python",
   "name": "Python [Root]"
  },
  "language_info": {
   "codemirror_mode": {
    "name": "ipython",
    "version": 3
   },
   "file_extension": ".py",
   "mimetype": "text/x-python",
   "name": "python",
   "nbconvert_exporter": "python",
   "pygments_lexer": "ipython3",
   "version": "3.5.2"
  }
 },
 "nbformat": 4,
 "nbformat_minor": 0
}
