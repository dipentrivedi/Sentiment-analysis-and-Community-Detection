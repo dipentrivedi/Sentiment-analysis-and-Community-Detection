{
 "cells": [
  {
   "cell_type": "code",
   "execution_count": null,
   "metadata": {
    "collapsed": false
   },
   "outputs": [],
   "source": [
    "import os\n",
    "import math"
   ]
  },
  {
   "cell_type": "code",
   "execution_count": null,
   "metadata": {
    "collapsed": false
   },
   "outputs": [],
   "source": [
    "def writeSummary(path):\n",
    "    resultDict={}\n",
    "    data=[]\n",
    "    \n",
    "    clusterFile = open(os.path.join(path, 'clusterAnswers.txt'),\"r\")\n",
    "    for f in clusterFile:\n",
    "        splt=f.strip(\"\\n\").split(\":\")\n",
    "        resultDict[splt[0]]=splt[1]\n",
    "    clusterFile.close()\n",
    "    \n",
    "    classifierFile = open(os.path.join(path, 'classifierAnswers.txt'),\"r\")\n",
    "    for f in classifierFile:\n",
    "        splt=f.strip(\"\\n\").split(\":\")\n",
    "        resultDict[splt[0]]=splt[1]\n",
    "    classifierFile.close()    \n",
    "\n",
    "    data.append(('1. Number of users collected:',resultDict['totalUsers']))\n",
    "    data.append(('2. Number of messages collected:',sum([int(resultDict['posFiles']),int(resultDict['negFiles'])])))\n",
    "    data.append(('3. Number of communities discovered:',resultDict['totalCommunities']))\n",
    "    data.append(('4. Average number of users per community:',resultDict['avgUsersPerComunnities']))\n",
    "    data.append(('5. Number of instances per class found:',\"Positive files: \"+resultDict['posFiles']+\"\\n\\t\\t\\t\\t        Negative Files: \"+resultDict['negFiles']))\n",
    "    data.append(('6. One example from each class:',\"\\n   Positive Record:\\n   \"+resultDict['posRecord']+\"\\n\\n   Negative Record:\\n   \"+resultDict['negRecord']))\n",
    "    \n",
    "    summaryFile = open('summary.txt',\"w\")\n",
    "    \n",
    "    flag=True\n",
    "    for f in data:\n",
    "        if flag:\n",
    "            summaryFile.write(f[0]+\" \"+str(f[1]))\n",
    "            flag=False\n",
    "        else:\n",
    "            summaryFile.write(\"\\n\"+f[0]+\" \"+str(f[1]))\n",
    "    summaryFile.close()"
   ]
  },
  {
   "cell_type": "code",
   "execution_count": null,
   "metadata": {
    "collapsed": true
   },
   "outputs": [],
   "source": [
    "def main():\n",
    "    \"\"\"\n",
    "    FYI: This takes ~10-15 seconds to run on my laptop.\n",
    "    \"\"\"\n",
    "    \n",
    "##########-----------------Data for classifier-------------############      \n",
    "    writeSummary(\"data\")\n",
    "    \n",
    "if __name__ == '__main__':\n",
    "    main()"
   ]
  }
 ],
 "metadata": {
  "anaconda-cloud": {},
  "kernelspec": {
   "display_name": "Python [Root]",
   "language": "python",
   "name": "Python [Root]"
  },
  "language_info": {
   "codemirror_mode": {
    "name": "ipython",
    "version": 3
   },
   "file_extension": ".py",
   "mimetype": "text/x-python",
   "name": "python",
   "nbconvert_exporter": "python",
   "pygments_lexer": "ipython3",
   "version": "3.5.2"
  }
 },
 "nbformat": 4,
 "nbformat_minor": 0
}
