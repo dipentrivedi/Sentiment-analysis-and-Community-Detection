{
 "cells": [
  {
   "cell_type": "code",
   "execution_count": 1,
   "metadata": {
    "collapsed": true
   },
   "outputs": [],
   "source": [
    "import networkx as nx\n",
    "import time\n",
    "import math"
   ]
  },
  {
   "cell_type": "code",
   "execution_count": 2,
   "metadata": {
    "collapsed": true
   },
   "outputs": [],
   "source": [
    "def read_graph(path):\n",
    "    \"\"\" Read 'edges.txt.gz' into a networkx **undirected** graph.\n",
    "    Done for you.\n",
    "    Returns:\n",
    "      A networkx undirected graph.\n",
    "    \"\"\"\n",
    "    return nx.read_edgelist(path)\n",
    "# graph=read_graph('data/user_friends.txt')"
   ]
  },
  {
   "cell_type": "code",
   "execution_count": 3,
   "metadata": {
    "collapsed": false
   },
   "outputs": [],
   "source": [
    "def girvan_newman(G, depth=0):\n",
    "    \"\"\" Recursive implementation of the girvan_newman algorithm.\n",
    "    See http://www-rohan.sdsu.edu/~gawron/python_for_ss/course_core/book_draft/Social_Networks/Networkx.html\n",
    "    \n",
    "    Args:\n",
    "    G.....a networkx graph\n",
    "\n",
    "    Returns:\n",
    "    A list of all discovered communities.\"\"\"\n",
    "    #find the best edge\n",
    "    def find_best_edge(g):\n",
    "        edge_betweeness = nx.edge_betweenness_centrality(g)\n",
    "        \n",
    "        return sorted(edge_betweeness.items(), key=lambda x: x[1], reverse=True)[0][0]\n",
    "    \n",
    "    if G.order() == 1:\n",
    "        return [G.nodes()]\n",
    "    \n",
    "    # Each component is a separate community. We cluster each of these.\n",
    "    components = [compo for compo in nx.connected_component_subgraphs(G)]\n",
    "\n",
    "    while len(components) == 1:\n",
    "        #find best edge to remove\n",
    "        edge_to_remove = find_best_edge(G)\n",
    "        #remove the best edge\n",
    "        G.remove_edge(*edge_to_remove)\n",
    "        \n",
    "        components = [compo for compo in nx.connected_component_subgraphs(G)]\n",
    "\n",
    "    result = [compo.nodes() for compo in components]\n",
    "\n",
    "    for c in components:\n",
    "        result.extend(girvan_newman(c, depth + 1))\n",
    "\n",
    "    return result\n",
    "# communities=girvan_newman(graph, depth=0)"
   ]
  },
  {
   "cell_type": "code",
   "execution_count": 4,
   "metadata": {
    "collapsed": false
   },
   "outputs": [],
   "source": [
    "def clusterAnswers(result):\n",
    "    opFile=open(\"data/clusterAnswers.txt\",\"w+\")\n",
    "    resuldDict={}\n",
    "    \n",
    "    print(\"total Communities: %d\"%len(result))\n",
    "    resuldDict['totalCommunities']=len(result)\n",
    "\n",
    "    totalCandidate=0\n",
    "    candidateFile=open(\"data/candidates.txt\",\"r\")\n",
    "    for c in candidateFile:\n",
    "        totalCandidate+=1\n",
    "    \n",
    "    \n",
    "    totalFriends=0\n",
    "    friendsFile=open(\"data/user_friends.txt\",\"r\")\n",
    "    for f in friendsFile:\n",
    "        totalFriends+=1\n",
    "    \n",
    "    totalUsers=totalCandidate+totalFriends\n",
    "    resuldDict['totalUsers']=totalUsers\n",
    "    print(\"Total Users :%d\"%totalUsers)\n",
    "    finalList=sorted(result, key=lambda x:len(x))[::-1][:50]\n",
    "    memebers=[]\n",
    "    totalCommunities=len(finalList)\n",
    "    for i in finalList:\n",
    "        memebers.extend(i)\n",
    "    resuldDict['top50Communities']=len(result)\n",
    "    print(\"Top 50 communities: %d\"%totalCommunities)\n",
    "    resuldDict['top50Communities']=totalCommunities\n",
    "    print(\"Average users per communities: %d\"%math.ceil(len(memebers)/totalCommunities))\n",
    "    resuldDict['avgUsersPerComunnities']=math.ceil(len(memebers)/totalCommunities)\n",
    "    flag=True\n",
    "    for data in resuldDict:\n",
    "        if flag:\n",
    "            opFile.write(data+\":\"+str(resuldDict[data]))\n",
    "            flag=False\n",
    "        else:\n",
    "            opFile.write(\"\\n\"+data+\":\"+str(resuldDict[data]))\n",
    "    opFile.close()"
   ]
  },
  {
   "cell_type": "code",
   "execution_count": 5,
   "metadata": {
    "collapsed": false
   },
   "outputs": [
    {
     "name": "stdout",
     "output_type": "stream",
     "text": [
      "total Communities: 918\n",
      "Total Users :401\n",
      "Top 50 communities: 50\n",
      "Average users per communities: 26\n",
      "Total running time :0.527867\n"
     ]
    }
   ],
   "source": [
    "def main():\n",
    "    \"\"\"\n",
    "    FYI: This takes ~10-15 seconds to run on my laptop.\n",
    "    \"\"\"\n",
    "    startTime = time.clock()\n",
    "    \n",
    "    #Read User and friends from the user_friends.txt\n",
    "    #Create graph for each user with respective friends\n",
    "    graph=read_graph('data/user_friends.txt')\n",
    "    \n",
    "    #Community detection using Girvan_newman algorithm\n",
    "    communities=girvan_newman(graph, depth=0)\n",
    "    \n",
    "    #write clustering answers to the file\n",
    "    clusterAnswers(communities)\n",
    "    \n",
    "    endTime =  time.clock()\n",
    "    \n",
    "    print(\"Total running time :%f\"%(endTime - startTime))\n",
    "    \n",
    "if __name__ == '__main__':\n",
    "    main()"
   ]
  }
 ],
 "metadata": {
  "anaconda-cloud": {},
  "kernelspec": {
   "display_name": "Python [Root]",
   "language": "python",
   "name": "Python [Root]"
  },
  "language_info": {
   "codemirror_mode": {
    "name": "ipython",
    "version": 3
   },
   "file_extension": ".py",
   "mimetype": "text/x-python",
   "name": "python",
   "nbconvert_exporter": "python",
   "pygments_lexer": "ipython3",
   "version": "3.5.2"
  }
 },
 "nbformat": 4,
 "nbformat_minor": 0
}
